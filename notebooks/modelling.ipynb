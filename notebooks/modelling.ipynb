{
 "cells": [
  {
   "cell_type": "markdown",
   "id": "d15e977d-6341-429c-a770-55af629ced62",
   "metadata": {},
   "source": [
    "#  Building models with sklearn pipelines\n",
    "<ul>\n",
    "    <li>In this notebook, I will conduct modelling. I have conducted all the necessary preprocessing on the raw data and all the features are numeric.</li>\n",
    "    <li>Since the problem is a regression problem, I will use tree-based algorithms for modelling. I am going to build Linear Regression model and a Random Forest Regressor.</li>\n",
    "    <li>Also, to ensure that modelling is modular, I am going to define an sklearn pipeline to streamline the whole process of loading, preprocessing and modelling.</li>"
   ]
  },
  {
   "cell_type": "markdown",
   "id": "b59bcd11-395c-4d61-973c-86583ba82b77",
   "metadata": {},
   "source": [
    "#### Importing necessary libraries"
   ]
  },
  {
   "cell_type": "code",
   "execution_count": 1,
   "id": "0ac5aef5-6e11-4fdd-9758-c7a78f5ce943",
   "metadata": {},
   "outputs": [],
   "source": [
    "import matplotlib.pyplot as plt\n",
    "import pandas as pd\n",
    "import sys, os\n",
    "sys.path.append(os.path.abspath(os.path.join('../scripts')))\n",
    "from load_data import LoadData #for loading the dataset from source files\n",
    "from plot import Plot # for visualization"
   ]
  },
  {
   "cell_type": "code",
   "execution_count": 2,
   "id": "36f7995d-8719-460b-8649-a3e6ad00caf8",
   "metadata": {},
   "outputs": [],
   "source": [
    "#initialize the load and plot objects\n",
    "loader = LoadData()\n",
    "plot = Plot()"
   ]
  },
  {
   "cell_type": "markdown",
   "id": "66d80973-9887-44a5-85b3-4a188cf4a4f0",
   "metadata": {},
   "source": [
    "#### Load the processed dataset"
   ]
  },
  {
   "cell_type": "code",
   "execution_count": 3,
   "id": "2981e303-dcbb-42d5-b3c6-f4c16f26d3be",
   "metadata": {},
   "outputs": [
    {
     "data": {
      "text/html": [
       "<div>\n",
       "<style scoped>\n",
       "    .dataframe tbody tr th:only-of-type {\n",
       "        vertical-align: middle;\n",
       "    }\n",
       "\n",
       "    .dataframe tbody tr th {\n",
       "        vertical-align: top;\n",
       "    }\n",
       "\n",
       "    .dataframe thead th {\n",
       "        text-align: right;\n",
       "    }\n",
       "</style>\n",
       "<table border=\"1\" class=\"dataframe\">\n",
       "  <thead>\n",
       "    <tr style=\"text-align: right;\">\n",
       "      <th></th>\n",
       "      <th>Store</th>\n",
       "      <th>DayOfWeek</th>\n",
       "      <th>Sales</th>\n",
       "      <th>Open</th>\n",
       "      <th>Promo</th>\n",
       "      <th>SchoolHoliday</th>\n",
       "      <th>CompetitionDistance</th>\n",
       "      <th>CompetitionOpenSinceMonth</th>\n",
       "      <th>CompetitionOpenSinceYear</th>\n",
       "      <th>Promo2</th>\n",
       "      <th>...</th>\n",
       "      <th>Year</th>\n",
       "      <th>Month</th>\n",
       "      <th>Day</th>\n",
       "      <th>weekday</th>\n",
       "      <th>weekofyear</th>\n",
       "      <th>weekend</th>\n",
       "      <th>PromoInterval</th>\n",
       "      <th>Assortment</th>\n",
       "      <th>StoreType</th>\n",
       "      <th>StateHoliday</th>\n",
       "    </tr>\n",
       "  </thead>\n",
       "  <tbody>\n",
       "    <tr>\n",
       "      <th>0</th>\n",
       "      <td>1</td>\n",
       "      <td>4</td>\n",
       "      <td>5263.0</td>\n",
       "      <td>1</td>\n",
       "      <td>1</td>\n",
       "      <td>1</td>\n",
       "      <td>1270.0</td>\n",
       "      <td>9.0</td>\n",
       "      <td>2008.0</td>\n",
       "      <td>0</td>\n",
       "      <td>...</td>\n",
       "      <td>2015</td>\n",
       "      <td>7</td>\n",
       "      <td>31</td>\n",
       "      <td>4</td>\n",
       "      <td>31</td>\n",
       "      <td>0</td>\n",
       "      <td>1</td>\n",
       "      <td>0</td>\n",
       "      <td>2</td>\n",
       "      <td>0</td>\n",
       "    </tr>\n",
       "    <tr>\n",
       "      <th>1</th>\n",
       "      <td>2</td>\n",
       "      <td>4</td>\n",
       "      <td>6064.0</td>\n",
       "      <td>1</td>\n",
       "      <td>1</td>\n",
       "      <td>1</td>\n",
       "      <td>570.0</td>\n",
       "      <td>11.0</td>\n",
       "      <td>2007.0</td>\n",
       "      <td>1</td>\n",
       "      <td>...</td>\n",
       "      <td>2015</td>\n",
       "      <td>7</td>\n",
       "      <td>31</td>\n",
       "      <td>4</td>\n",
       "      <td>31</td>\n",
       "      <td>0</td>\n",
       "      <td>1</td>\n",
       "      <td>0</td>\n",
       "      <td>0</td>\n",
       "      <td>0</td>\n",
       "    </tr>\n",
       "    <tr>\n",
       "      <th>2</th>\n",
       "      <td>3</td>\n",
       "      <td>4</td>\n",
       "      <td>8314.0</td>\n",
       "      <td>1</td>\n",
       "      <td>1</td>\n",
       "      <td>1</td>\n",
       "      <td>14130.0</td>\n",
       "      <td>12.0</td>\n",
       "      <td>2006.0</td>\n",
       "      <td>1</td>\n",
       "      <td>...</td>\n",
       "      <td>2015</td>\n",
       "      <td>7</td>\n",
       "      <td>31</td>\n",
       "      <td>4</td>\n",
       "      <td>31</td>\n",
       "      <td>0</td>\n",
       "      <td>1</td>\n",
       "      <td>0</td>\n",
       "      <td>0</td>\n",
       "      <td>0</td>\n",
       "    </tr>\n",
       "    <tr>\n",
       "      <th>3</th>\n",
       "      <td>4</td>\n",
       "      <td>4</td>\n",
       "      <td>13995.0</td>\n",
       "      <td>1</td>\n",
       "      <td>1</td>\n",
       "      <td>1</td>\n",
       "      <td>620.0</td>\n",
       "      <td>9.0</td>\n",
       "      <td>2009.0</td>\n",
       "      <td>0</td>\n",
       "      <td>...</td>\n",
       "      <td>2015</td>\n",
       "      <td>7</td>\n",
       "      <td>31</td>\n",
       "      <td>4</td>\n",
       "      <td>31</td>\n",
       "      <td>0</td>\n",
       "      <td>1</td>\n",
       "      <td>2</td>\n",
       "      <td>2</td>\n",
       "      <td>0</td>\n",
       "    </tr>\n",
       "    <tr>\n",
       "      <th>4</th>\n",
       "      <td>5</td>\n",
       "      <td>4</td>\n",
       "      <td>4822.0</td>\n",
       "      <td>1</td>\n",
       "      <td>1</td>\n",
       "      <td>1</td>\n",
       "      <td>29910.0</td>\n",
       "      <td>4.0</td>\n",
       "      <td>2015.0</td>\n",
       "      <td>0</td>\n",
       "      <td>...</td>\n",
       "      <td>2015</td>\n",
       "      <td>7</td>\n",
       "      <td>31</td>\n",
       "      <td>4</td>\n",
       "      <td>31</td>\n",
       "      <td>0</td>\n",
       "      <td>1</td>\n",
       "      <td>0</td>\n",
       "      <td>0</td>\n",
       "      <td>0</td>\n",
       "    </tr>\n",
       "  </tbody>\n",
       "</table>\n",
       "<p>5 rows × 22 columns</p>\n",
       "</div>"
      ],
      "text/plain": [
       "   Store  DayOfWeek    Sales  Open  Promo  SchoolHoliday  CompetitionDistance  \\\n",
       "0      1          4   5263.0     1      1              1               1270.0   \n",
       "1      2          4   6064.0     1      1              1                570.0   \n",
       "2      3          4   8314.0     1      1              1              14130.0   \n",
       "3      4          4  13995.0     1      1              1                620.0   \n",
       "4      5          4   4822.0     1      1              1              29910.0   \n",
       "\n",
       "   CompetitionOpenSinceMonth  CompetitionOpenSinceYear  Promo2  ...  Year  \\\n",
       "0                        9.0                    2008.0       0  ...  2015   \n",
       "1                       11.0                    2007.0       1  ...  2015   \n",
       "2                       12.0                    2006.0       1  ...  2015   \n",
       "3                        9.0                    2009.0       0  ...  2015   \n",
       "4                        4.0                    2015.0       0  ...  2015   \n",
       "\n",
       "   Month  Day  weekday  weekofyear  weekend  PromoInterval  Assortment  \\\n",
       "0      7   31        4          31        0              1           0   \n",
       "1      7   31        4          31        0              1           0   \n",
       "2      7   31        4          31        0              1           0   \n",
       "3      7   31        4          31        0              1           2   \n",
       "4      7   31        4          31        0              1           0   \n",
       "\n",
       "   StoreType  StateHoliday  \n",
       "0          2             0  \n",
       "1          0             0  \n",
       "2          0             0  \n",
       "3          2             0  \n",
       "4          0             0  \n",
       "\n",
       "[5 rows x 22 columns]"
      ]
     },
     "execution_count": 3,
     "metadata": {},
     "output_type": "execute_result"
    }
   ],
   "source": [
    "train_df = loader.read_csv('../data/processed/train.csv')\n",
    "train_df.drop('Unnamed: 0', axis=1, inplace=True)\n",
    "train_df.head()"
   ]
  },
  {
   "cell_type": "markdown",
   "id": "b55ba782-44fc-48ea-84f1-3b9ae404a0fe",
   "metadata": {},
   "source": [
    "### (a) Linear Regression Model"
   ]
  },
  {
   "cell_type": "markdown",
   "id": "b47d15b2-a45d-4f6e-b4e4-6df405069c0e",
   "metadata": {},
   "source": [
    "### Import necessary libraries"
   ]
  },
  {
   "cell_type": "code",
   "execution_count": 4,
   "id": "f8bc343a-a6f7-4363-ab42-dc5da28da9a3",
   "metadata": {},
   "outputs": [],
   "source": [
    "from sklearn.linear_model import LinearRegression\n",
    "from sklearn.model_selection import train_test_split\n",
    "from sklearn.metrics import mean_squared_error"
   ]
  },
  {
   "cell_type": "markdown",
   "id": "681e33e7-8aec-4093-a6ac-417562046573",
   "metadata": {},
   "source": [
    "### Separate the features from the target"
   ]
  },
  {
   "cell_type": "code",
   "execution_count": 5,
   "id": "84ededb1-3b49-4eda-9221-3e72ea945498",
   "metadata": {},
   "outputs": [],
   "source": [
    "X_train = train_df.drop('Sales', axis = 1)\n",
    "Y_train = train_df['Sales']"
   ]
  },
  {
   "cell_type": "markdown",
   "id": "187d05bf-5516-41ac-83aa-434b26f2656f",
   "metadata": {},
   "source": [
    "### Randomly split the data into train and validation set"
   ]
  },
  {
   "cell_type": "code",
   "execution_count": 6,
   "id": "dac12c32-3de6-415f-8763-b367d0cba137",
   "metadata": {},
   "outputs": [
    {
     "data": {
      "text/plain": [
       "((813767, 21), (203442, 21), (813767,), (203442,))"
      ]
     },
     "execution_count": 6,
     "metadata": {},
     "output_type": "execute_result"
    }
   ],
   "source": [
    "x_train, x_test, y_train, y_test = train_test_split(X_train, Y_train, test_size=0.2, random_state=0)\n",
    "\n",
    "#verify the split\n",
    "x_train.shape, x_test.shape, y_train.shape, y_test.shape"
   ]
  },
  {
   "cell_type": "markdown",
   "id": "9d6f7bda-2ee2-4dc2-8f6e-8f65911552f0",
   "metadata": {},
   "source": [
    "### Create a Linear Regression Model object"
   ]
  },
  {
   "cell_type": "code",
   "execution_count": 7,
   "id": "bb955920-201a-4720-aa55-4c247bf48b05",
   "metadata": {},
   "outputs": [],
   "source": [
    "#create the model object\n",
    "model_LR = LinearRegression()"
   ]
  },
  {
   "cell_type": "code",
   "execution_count": 8,
   "id": "5b9a61da-0df0-401e-872b-fef399e85fdc",
   "metadata": {},
   "outputs": [
    {
     "data": {
      "text/html": [
       "<style>#sk-container-id-1 {color: black;background-color: white;}#sk-container-id-1 pre{padding: 0;}#sk-container-id-1 div.sk-toggleable {background-color: white;}#sk-container-id-1 label.sk-toggleable__label {cursor: pointer;display: block;width: 100%;margin-bottom: 0;padding: 0.3em;box-sizing: border-box;text-align: center;}#sk-container-id-1 label.sk-toggleable__label-arrow:before {content: \"▸\";float: left;margin-right: 0.25em;color: #696969;}#sk-container-id-1 label.sk-toggleable__label-arrow:hover:before {color: black;}#sk-container-id-1 div.sk-estimator:hover label.sk-toggleable__label-arrow:before {color: black;}#sk-container-id-1 div.sk-toggleable__content {max-height: 0;max-width: 0;overflow: hidden;text-align: left;background-color: #f0f8ff;}#sk-container-id-1 div.sk-toggleable__content pre {margin: 0.2em;color: black;border-radius: 0.25em;background-color: #f0f8ff;}#sk-container-id-1 input.sk-toggleable__control:checked~div.sk-toggleable__content {max-height: 200px;max-width: 100%;overflow: auto;}#sk-container-id-1 input.sk-toggleable__control:checked~label.sk-toggleable__label-arrow:before {content: \"▾\";}#sk-container-id-1 div.sk-estimator input.sk-toggleable__control:checked~label.sk-toggleable__label {background-color: #d4ebff;}#sk-container-id-1 div.sk-label input.sk-toggleable__control:checked~label.sk-toggleable__label {background-color: #d4ebff;}#sk-container-id-1 input.sk-hidden--visually {border: 0;clip: rect(1px 1px 1px 1px);clip: rect(1px, 1px, 1px, 1px);height: 1px;margin: -1px;overflow: hidden;padding: 0;position: absolute;width: 1px;}#sk-container-id-1 div.sk-estimator {font-family: monospace;background-color: #f0f8ff;border: 1px dotted black;border-radius: 0.25em;box-sizing: border-box;margin-bottom: 0.5em;}#sk-container-id-1 div.sk-estimator:hover {background-color: #d4ebff;}#sk-container-id-1 div.sk-parallel-item::after {content: \"\";width: 100%;border-bottom: 1px solid gray;flex-grow: 1;}#sk-container-id-1 div.sk-label:hover label.sk-toggleable__label {background-color: #d4ebff;}#sk-container-id-1 div.sk-serial::before {content: \"\";position: absolute;border-left: 1px solid gray;box-sizing: border-box;top: 0;bottom: 0;left: 50%;z-index: 0;}#sk-container-id-1 div.sk-serial {display: flex;flex-direction: column;align-items: center;background-color: white;padding-right: 0.2em;padding-left: 0.2em;position: relative;}#sk-container-id-1 div.sk-item {position: relative;z-index: 1;}#sk-container-id-1 div.sk-parallel {display: flex;align-items: stretch;justify-content: center;background-color: white;position: relative;}#sk-container-id-1 div.sk-item::before, #sk-container-id-1 div.sk-parallel-item::before {content: \"\";position: absolute;border-left: 1px solid gray;box-sizing: border-box;top: 0;bottom: 0;left: 50%;z-index: -1;}#sk-container-id-1 div.sk-parallel-item {display: flex;flex-direction: column;z-index: 1;position: relative;background-color: white;}#sk-container-id-1 div.sk-parallel-item:first-child::after {align-self: flex-end;width: 50%;}#sk-container-id-1 div.sk-parallel-item:last-child::after {align-self: flex-start;width: 50%;}#sk-container-id-1 div.sk-parallel-item:only-child::after {width: 0;}#sk-container-id-1 div.sk-dashed-wrapped {border: 1px dashed gray;margin: 0 0.4em 0.5em 0.4em;box-sizing: border-box;padding-bottom: 0.4em;background-color: white;}#sk-container-id-1 div.sk-label label {font-family: monospace;font-weight: bold;display: inline-block;line-height: 1.2em;}#sk-container-id-1 div.sk-label-container {text-align: center;}#sk-container-id-1 div.sk-container {/* jupyter's `normalize.less` sets `[hidden] { display: none; }` but bootstrap.min.css set `[hidden] { display: none !important; }` so we also need the `!important` here to be able to override the default hidden behavior on the sphinx rendered scikit-learn.org. See: https://github.com/scikit-learn/scikit-learn/issues/21755 */display: inline-block !important;position: relative;}#sk-container-id-1 div.sk-text-repr-fallback {display: none;}</style><div id=\"sk-container-id-1\" class=\"sk-top-container\"><div class=\"sk-text-repr-fallback\"><pre>LinearRegression()</pre><b>In a Jupyter environment, please rerun this cell to show the HTML representation or trust the notebook. <br />On GitHub, the HTML representation is unable to render, please try loading this page with nbviewer.org.</b></div><div class=\"sk-container\" hidden><div class=\"sk-item\"><div class=\"sk-estimator sk-toggleable\"><input class=\"sk-toggleable__control sk-hidden--visually\" id=\"sk-estimator-id-1\" type=\"checkbox\" checked><label for=\"sk-estimator-id-1\" class=\"sk-toggleable__label sk-toggleable__label-arrow\">LinearRegression</label><div class=\"sk-toggleable__content\"><pre>LinearRegression()</pre></div></div></div></div></div>"
      ],
      "text/plain": [
       "LinearRegression()"
      ]
     },
     "execution_count": 8,
     "metadata": {},
     "output_type": "execute_result"
    }
   ],
   "source": [
    "#fit the model with the training data\n",
    "model_LR.fit(x_train, y_train)"
   ]
  },
  {
   "cell_type": "code",
   "execution_count": 9,
   "id": "9782f24a-cf21-4687-aa8e-8a232617dec6",
   "metadata": {},
   "outputs": [],
   "source": [
    "#Predict the target on train and test data\n",
    "predict_train = model_LR.predict(x_train)\n",
    "predict_test = model_LR.predict(x_test)"
   ]
  },
  {
   "cell_type": "code",
   "execution_count": 10,
   "id": "17a5bc13-7aad-4135-a2eb-f27a66a15aec",
   "metadata": {},
   "outputs": [
    {
     "name": "stdout",
     "output_type": "stream",
     "text": [
      "RMSE on train data:  2234.1457974911245\n",
      "RMSE on test data:  2228.0180002769484\n"
     ]
    }
   ],
   "source": [
    "# get the model accuracy\n",
    "print('RMSE on train data: ', mean_squared_error(y_train, predict_train)**(0.5))\n",
    "print('RMSE on test data: ' , mean_squared_error(y_test, predict_test)**(0.5))"
   ]
  },
  {
   "cell_type": "markdown",
   "id": "97877465-c76c-44c1-862d-5cacd120fe98",
   "metadata": {},
   "source": [
    "### (b) Random Forest Regressor"
   ]
  },
  {
   "cell_type": "markdown",
   "id": "31857ff0-0985-4dc3-9b78-2a45aead34eb",
   "metadata": {},
   "source": [
    "#### Import the necessary libraries"
   ]
  },
  {
   "cell_type": "code",
   "execution_count": 11,
   "id": "0a1fd568-5b39-4385-85e3-a6aa147686a0",
   "metadata": {},
   "outputs": [],
   "source": [
    "from sklearn.ensemble import RandomForestRegressor\n",
    "from sklearn.model_selection import train_test_split\n",
    "from sklearn.metrics import mean_squared_error"
   ]
  },
  {
   "cell_type": "markdown",
   "id": "db45acc2-70a0-45e5-abb8-0c5c5905071f",
   "metadata": {},
   "source": [
    "#### Create the RFR model"
   ]
  },
  {
   "cell_type": "code",
   "execution_count": 12,
   "id": "325d05ad-87e2-4fe1-a88a-54b7f74c1dd7",
   "metadata": {},
   "outputs": [],
   "source": [
    "#create RFR object\n",
    "model_RFR = RandomForestRegressor()"
   ]
  },
  {
   "cell_type": "code",
   "execution_count": 13,
   "id": "2c186c10-6e59-4884-86a2-0029fa21c052",
   "metadata": {},
   "outputs": [
    {
     "data": {
      "text/html": [
       "<style>#sk-container-id-2 {color: black;background-color: white;}#sk-container-id-2 pre{padding: 0;}#sk-container-id-2 div.sk-toggleable {background-color: white;}#sk-container-id-2 label.sk-toggleable__label {cursor: pointer;display: block;width: 100%;margin-bottom: 0;padding: 0.3em;box-sizing: border-box;text-align: center;}#sk-container-id-2 label.sk-toggleable__label-arrow:before {content: \"▸\";float: left;margin-right: 0.25em;color: #696969;}#sk-container-id-2 label.sk-toggleable__label-arrow:hover:before {color: black;}#sk-container-id-2 div.sk-estimator:hover label.sk-toggleable__label-arrow:before {color: black;}#sk-container-id-2 div.sk-toggleable__content {max-height: 0;max-width: 0;overflow: hidden;text-align: left;background-color: #f0f8ff;}#sk-container-id-2 div.sk-toggleable__content pre {margin: 0.2em;color: black;border-radius: 0.25em;background-color: #f0f8ff;}#sk-container-id-2 input.sk-toggleable__control:checked~div.sk-toggleable__content {max-height: 200px;max-width: 100%;overflow: auto;}#sk-container-id-2 input.sk-toggleable__control:checked~label.sk-toggleable__label-arrow:before {content: \"▾\";}#sk-container-id-2 div.sk-estimator input.sk-toggleable__control:checked~label.sk-toggleable__label {background-color: #d4ebff;}#sk-container-id-2 div.sk-label input.sk-toggleable__control:checked~label.sk-toggleable__label {background-color: #d4ebff;}#sk-container-id-2 input.sk-hidden--visually {border: 0;clip: rect(1px 1px 1px 1px);clip: rect(1px, 1px, 1px, 1px);height: 1px;margin: -1px;overflow: hidden;padding: 0;position: absolute;width: 1px;}#sk-container-id-2 div.sk-estimator {font-family: monospace;background-color: #f0f8ff;border: 1px dotted black;border-radius: 0.25em;box-sizing: border-box;margin-bottom: 0.5em;}#sk-container-id-2 div.sk-estimator:hover {background-color: #d4ebff;}#sk-container-id-2 div.sk-parallel-item::after {content: \"\";width: 100%;border-bottom: 1px solid gray;flex-grow: 1;}#sk-container-id-2 div.sk-label:hover label.sk-toggleable__label {background-color: #d4ebff;}#sk-container-id-2 div.sk-serial::before {content: \"\";position: absolute;border-left: 1px solid gray;box-sizing: border-box;top: 0;bottom: 0;left: 50%;z-index: 0;}#sk-container-id-2 div.sk-serial {display: flex;flex-direction: column;align-items: center;background-color: white;padding-right: 0.2em;padding-left: 0.2em;position: relative;}#sk-container-id-2 div.sk-item {position: relative;z-index: 1;}#sk-container-id-2 div.sk-parallel {display: flex;align-items: stretch;justify-content: center;background-color: white;position: relative;}#sk-container-id-2 div.sk-item::before, #sk-container-id-2 div.sk-parallel-item::before {content: \"\";position: absolute;border-left: 1px solid gray;box-sizing: border-box;top: 0;bottom: 0;left: 50%;z-index: -1;}#sk-container-id-2 div.sk-parallel-item {display: flex;flex-direction: column;z-index: 1;position: relative;background-color: white;}#sk-container-id-2 div.sk-parallel-item:first-child::after {align-self: flex-end;width: 50%;}#sk-container-id-2 div.sk-parallel-item:last-child::after {align-self: flex-start;width: 50%;}#sk-container-id-2 div.sk-parallel-item:only-child::after {width: 0;}#sk-container-id-2 div.sk-dashed-wrapped {border: 1px dashed gray;margin: 0 0.4em 0.5em 0.4em;box-sizing: border-box;padding-bottom: 0.4em;background-color: white;}#sk-container-id-2 div.sk-label label {font-family: monospace;font-weight: bold;display: inline-block;line-height: 1.2em;}#sk-container-id-2 div.sk-label-container {text-align: center;}#sk-container-id-2 div.sk-container {/* jupyter's `normalize.less` sets `[hidden] { display: none; }` but bootstrap.min.css set `[hidden] { display: none !important; }` so we also need the `!important` here to be able to override the default hidden behavior on the sphinx rendered scikit-learn.org. See: https://github.com/scikit-learn/scikit-learn/issues/21755 */display: inline-block !important;position: relative;}#sk-container-id-2 div.sk-text-repr-fallback {display: none;}</style><div id=\"sk-container-id-2\" class=\"sk-top-container\"><div class=\"sk-text-repr-fallback\"><pre>RandomForestRegressor()</pre><b>In a Jupyter environment, please rerun this cell to show the HTML representation or trust the notebook. <br />On GitHub, the HTML representation is unable to render, please try loading this page with nbviewer.org.</b></div><div class=\"sk-container\" hidden><div class=\"sk-item\"><div class=\"sk-estimator sk-toggleable\"><input class=\"sk-toggleable__control sk-hidden--visually\" id=\"sk-estimator-id-2\" type=\"checkbox\" checked><label for=\"sk-estimator-id-2\" class=\"sk-toggleable__label sk-toggleable__label-arrow\">RandomForestRegressor</label><div class=\"sk-toggleable__content\"><pre>RandomForestRegressor()</pre></div></div></div></div></div>"
      ],
      "text/plain": [
       "RandomForestRegressor()"
      ]
     },
     "execution_count": 13,
     "metadata": {},
     "output_type": "execute_result"
    }
   ],
   "source": [
    "#fit the model with the training data\n",
    "model_RFR.fit(x_train, y_train)"
   ]
  },
  {
   "cell_type": "code",
   "execution_count": 14,
   "id": "6d1fb195-15b5-415d-80d7-fea95ca4c1c5",
   "metadata": {},
   "outputs": [],
   "source": [
    "#predict the target on the train and test dataset\n",
    "predict_train = model_RFR.predict(x_train)\n",
    "predict_test = model_RFR.predict(x_test)"
   ]
  },
  {
   "cell_type": "code",
   "execution_count": 15,
   "id": "c9d353e0-3f4b-4678-b2a5-16e8982cd505",
   "metadata": {},
   "outputs": [
    {
     "name": "stdout",
     "output_type": "stream",
     "text": [
      "RMSE on train data:  268.8552499678108\n",
      "RMSE on test data:  722.3005580448857\n"
     ]
    }
   ],
   "source": [
    "#check model accuracy using RMSEb\n",
    "print('RMSE on train data: ', mean_squared_error(y_train, predict_train)**(0.5))\n",
    "print('RMSE on test data: ' , mean_squared_error(y_test, predict_test)**(0.5))"
   ]
  },
  {
   "cell_type": "markdown",
   "id": "e63d8fa2-f88e-486d-9246-91f6d359ffca",
   "metadata": {},
   "source": [
    "### Discussion\n",
    "<ul>\n",
    "    <li>I have trained two models, a Linear Regression Model and a Random Forest Regression Model</li>\n",
    "    <li>In order to evaluate the accuracy of each model, I have used <b>Root Mean Squared Error (RMSE)</b> as my loss function.</li>\n",
    "    <li>RMSE  is the square root of the variance of residuals. It indicates the absolute fit of the model to the data-how close the observed data points are to the model's predicted values. RMSE is an absolute measure of fit. RMSE can be interpreted as the standard deviation of the unexplained variance. </li>\n",
    "    <li><em>Lower values of RMSE indicates better fit</em></li>\n",
    "    <li>The Random Forest Regressor is performing better than the Linear Regressor since it has lower RMSE values</li>\n",
    "</ul>"
   ]
  },
  {
   "cell_type": "markdown",
   "id": "785e0c05-c20d-4a78-87b2-39ae183f0d51",
   "metadata": {},
   "source": [
    "### Feature Importance\n",
    "After the preprocessing and the encoding steps, I had a total of 21 features all of which may not be useful in forecasting the sales. I am going to select the top 7 features which had a major contribution in forecasting the sales"
   ]
  },
  {
   "cell_type": "markdown",
   "id": "722a2053-2d11-450c-927c-7e4400426944",
   "metadata": {},
   "source": [
    "#### Plotting the feature importance"
   ]
  },
  {
   "cell_type": "code",
   "execution_count": 21,
   "id": "83ae8e84-7292-4d92-8c15-936a6ba8c679",
   "metadata": {},
   "outputs": [
    {
     "data": {
      "text/plain": [
       "<AxesSubplot:>"
      ]
     },
     "execution_count": 21,
     "metadata": {},
     "output_type": "execute_result"
    },
    {
     "data": {
      "image/png": "[encoded data removed]",
      "text/plain": [
       "<Figure size 720x504 with 1 Axes>"
      ]
     },
     "metadata": {
      "needs_background": "light"
     },
     "output_type": "display_data"
    }
   ],
   "source": [
    "# plot the 10 most important features\n",
    "plt.figure(figsize=(10, 7))\n",
    "feat_importances = pd.Series(model_RFR.feature_importances_, index = x_train.columns)\n",
    "feat_importances.nlargest(18).plot(kind='barh')"
   ]
  },
  {
   "cell_type": "markdown",
   "id": "688173d9-2033-41ef-8deb-abc1fa6cea09",
   "metadata": {},
   "source": [
    "#### Training the Random Forest Regressor with only n Select Features\n",
    "I am going to train the same Random Forest model using the n most important features and observe the change in RMSE values for the train and the validation dataset"
   ]
  },
  {
   "cell_type": "markdown",
   "id": "82032be7-9d7e-40e3-a964-6d1e2d9b6340",
   "metadata": {},
   "source": [
    "##### <ul><li>Training with 7 features</li></ul>"
   ]
  },
  {
   "cell_type": "code",
   "execution_count": 17,
   "id": "04dd6608-72c7-487b-a356-8efe364b89ca",
   "metadata": {},
   "outputs": [
    {
     "name": "stdout",
     "output_type": "stream",
     "text": [
      "RMSE on the train data: 2108.010873686602\n",
      "RMSE on the test data: 2106.604917761364\n"
     ]
    }
   ],
   "source": [
    "# train data with 7 most important features\n",
    "train_x_if = x_train[['Open',\n",
    "                      'CompetitionDistance',\n",
    "                      'Promo',\n",
    "                      'Store',\n",
    "                      'CompetitionOpenSinceYear',\n",
    "                      'CompetitionOpenSinceMonth',\n",
    "                      'Day']]\n",
    "\n",
    "# test data with 7 most important features\n",
    "test_x_if = x_test[['Open',\n",
    "                    'CompetitionDistance',\n",
    "                    'Promo',\n",
    "                    'Store',\n",
    "                    'CompetitionOpenSinceYear',\n",
    "                    'CompetitionOpenSinceMonth',\n",
    "                    'Day']]\n",
    "\n",
    "# Create an object of the RandomForestRegressor Model\n",
    "model_RFR_with_if = RandomForestRegressor(max_depth=10, random_state=11)\n",
    "\n",
    "# fit the model with the training data\n",
    "model_RFR_with_if.fit(train_x_if, y_train)\n",
    "\n",
    "# Predict the target on the training and test data\n",
    "predict_train_with_if = model_RFR_with_if.predict(train_x_if)\n",
    "predict_test_with_if = model_RFR_with_if.predict(test_x_if)\n",
    "\n",
    "# Get the Root Mean Squared Error on the train and test data\n",
    "print(f'RMSE on the train data: {mean_squared_error(y_train, predict_train_with_if)**(0.5)}')\n",
    "print(f'RMSE on the test data: {mean_squared_error(y_test, predict_test_with_if)**(0.5)}')"
   ]
  },
  {
   "cell_type": "markdown",
   "id": "ac859e31-a8ee-4e31-8659-1d825d5a0bc4",
   "metadata": {},
   "source": [
    "##### <ul><li>Training with 10 features</li></ul>"
   ]
  },
  {
   "cell_type": "code",
   "execution_count": 18,
   "id": "226fd758-2c79-45c2-9e8a-f8716e2d821e",
   "metadata": {
    "tags": []
   },
   "outputs": [
    {
     "name": "stdout",
     "output_type": "stream",
     "text": [
      "RMSE on the train data: 2039.181144867049\n",
      "RMSE on the test data: 2036.676861118751\n"
     ]
    }
   ],
   "source": [
    "# train data with 10 most important features\n",
    "train_x_if = x_train[['Open',\n",
    "                      'CompetitionDistance',\n",
    "                      'Promo',\n",
    "                      'Store',\n",
    "                      'CompetitionOpenSinceYear',\n",
    "                      'CompetitionOpenSinceMonth',\n",
    "                      'Day',\n",
    "                      'weekofyear',\n",
    "                      'StoreType',\n",
    "                      'weekday']]\n",
    "\n",
    "# test data with 10 most important features\n",
    "test_x_if = x_test[['Open',\n",
    "                    'CompetitionDistance',\n",
    "                    'Promo',\n",
    "                    'Store',\n",
    "                    'CompetitionOpenSinceYear',\n",
    "                    'CompetitionOpenSinceMonth',\n",
    "                    'Day',\n",
    "                    'weekofyear',\n",
    "                    'StoreType',\n",
    "                    'weekday']]\n",
    "\n",
    "# Create an object of the RandomForestRegressor Model\n",
    "model_RFR_with_if = RandomForestRegressor(max_depth=10, random_state=2)\n",
    "\n",
    "# fit the model with the training data\n",
    "model_RFR_with_if.fit(train_x_if, y_train)\n",
    "\n",
    "# Predict the target on the training and test data\n",
    "predict_train_with_if = model_RFR_with_if.predict(train_x_if)\n",
    "predict_test_with_if = model_RFR_with_if.predict(test_x_if)\n",
    "\n",
    "# Get the Root Mean Squared Error on the train and test data\n",
    "print(f'RMSE on the train data: {mean_squared_error(y_train, predict_train_with_if)**(0.5)}')\n",
    "print(f'RMSE on the test data: {mean_squared_error(y_test, predict_test_with_if)**(0.5)}')"
   ]
  },
  {
   "cell_type": "markdown",
   "id": "02087c2f-de88-4627-89bd-d67920feedc2",
   "metadata": {},
   "source": [
    "##### <ul><li>Training with 15 features</li></ul>"
   ]
  },
  {
   "cell_type": "code",
   "execution_count": 20,
   "id": "f1999da3-1675-4a98-b6d6-a7c04e62c359",
   "metadata": {
    "tags": []
   },
   "outputs": [
    {
     "name": "stdout",
     "output_type": "stream",
     "text": [
      "RMSE on the train data: 1873.0500232080428\n",
      "RMSE on the test data: 1872.4301448816454\n"
     ]
    }
   ],
   "source": [
    "# train data with 15 most important features\n",
    "train_x_if = x_train[['Open',\n",
    "                      'CompetitionDistance',\n",
    "                      'Promo',\n",
    "                      'Store',\n",
    "                      'CompetitionOpenSinceYear',\n",
    "                      'CompetitionOpenSinceMonth',\n",
    "                      'Day',\n",
    "                      'weekofyear',\n",
    "                      'StoreType',\n",
    "                      'weekday',\n",
    "                      'DayOfWeek',\n",
    "                      'StoreType',\n",
    "                      'Promo2SinceWeek',\n",
    "                      'Assortment',\n",
    "                      'Promo2']]\n",
    "\n",
    "# test data with 15 most important features\n",
    "test_x_if = x_test[['Open',\n",
    "                      'CompetitionDistance',\n",
    "                      'Promo',\n",
    "                      'Store',\n",
    "                      'CompetitionOpenSinceYear',\n",
    "                      'CompetitionOpenSinceMonth',\n",
    "                      'Day',\n",
    "                      'weekofyear',\n",
    "                      'StoreType',\n",
    "                      'weekday',\n",
    "                      'DayOfWeek',\n",
    "                      'StoreType',\n",
    "                      'Promo2SinceWeek',\n",
    "                      'Assortment',\n",
    "                      'Promo2']]\n",
    "\n",
    "# Create an object of the RandomForestRegressor Model\n",
    "model_RFR_with_if = RandomForestRegressor(max_depth=10, random_state=11)\n",
    "\n",
    "# fit the model with the training data\n",
    "model_RFR_with_if.fit(train_x_if, y_train)\n",
    "\n",
    "# Predict the target on the training and test data\n",
    "predict_train_with_if = model_RFR_with_if.predict(train_x_if)\n",
    "predict_test_with_if = model_RFR_with_if.predict(test_x_if)\n",
    "\n",
    "# Get the Root Mean Squared Error on the train and test data\n",
    "print(f'RMSE on the train data: {mean_squared_error(y_train, predict_train_with_if)**(0.5)}')\n",
    "print(f'RMSE on the test data: {mean_squared_error(y_test, predict_test_with_if)**(0.5)}')"
   ]
  },
  {
   "cell_type": "markdown",
   "id": "39f7b761-33f3-43eb-b79d-83074011e346",
   "metadata": {},
   "source": [
    "##### <ul><li>Training with 18 features</li></ul>"
   ]
  },
  {
   "cell_type": "code",
   "execution_count": 22,
   "id": "384c2b6c-0a18-4f5f-93d8-d082d189d6c2",
   "metadata": {
    "tags": []
   },
   "outputs": [
    {
     "name": "stdout",
     "output_type": "stream",
     "text": [
      "RMSE on the train data: 1868.650387021928\n",
      "RMSE on the test data: 1867.5940773583732\n"
     ]
    }
   ],
   "source": [
    "# train data with 18 most important features\n",
    "train_x_if = x_train[['Open',\n",
    "                      'CompetitionDistance',\n",
    "                      'Promo',\n",
    "                      'Store',\n",
    "                      'CompetitionOpenSinceYear',\n",
    "                      'CompetitionOpenSinceMonth',\n",
    "                      'Day',\n",
    "                      'weekofyear',\n",
    "                      'StoreType',\n",
    "                      'weekday',\n",
    "                      'DayOfWeek',\n",
    "                      'StoreType',\n",
    "                      'Promo2SinceWeek',\n",
    "                      'Assortment',\n",
    "                      'Promo2',\n",
    "                      'Month',\n",
    "                      'Year',\n",
    "                      'PromoInterval']]\n",
    "\n",
    "# test data with 18 most important features\n",
    "test_x_if = x_test[['Open',\n",
    "                      'CompetitionDistance',\n",
    "                      'Promo',\n",
    "                      'Store',\n",
    "                      'CompetitionOpenSinceYear',\n",
    "                      'CompetitionOpenSinceMonth',\n",
    "                      'Day',\n",
    "                      'weekofyear',\n",
    "                      'StoreType',\n",
    "                      'weekday',\n",
    "                      'DayOfWeek',\n",
    "                      'StoreType',\n",
    "                      'Promo2SinceWeek',\n",
    "                      'Assortment',\n",
    "                      'Promo2',\n",
    "                      'Month',\n",
    "                      'Year',\n",
    "                      'PromoInterval']]\n",
    "\n",
    "# Create an object of the RandomForestRegressor Model\n",
    "model_RFR_with_if = RandomForestRegressor(max_depth=10, random_state=11)\n",
    "\n",
    "# fit the model with the training data\n",
    "model_RFR_with_if.fit(train_x_if, y_train)\n",
    "\n",
    "# Predict the target on the training and test data\n",
    "predict_train_with_if = model_RFR_with_if.predict(train_x_if)\n",
    "predict_test_with_if = model_RFR_with_if.predict(test_x_if)\n",
    "\n",
    "# Get the Root Mean Squared Error on the train and test data\n",
    "print(f'RMSE on the train data: {mean_squared_error(y_train, predict_train_with_if)**(0.5)}')\n",
    "print(f'RMSE on the test data: {mean_squared_error(y_test, predict_test_with_if)**(0.5)}')"
   ]
  },
  {
   "cell_type": "markdown",
   "id": "29c7ced9-ac35-40d2-9999-b9c2fbcd0f02",
   "metadata": {},
   "source": [
    "From the analysis, all the 21 features are necessary in order to get the same accuracy. Dropping some of the features results in a model that is performing so poorly. As a result, I'm going to maintain all the features for my model."
   ]
  }
 ],
 "metadata": {
  "kernelspec": {
   "display_name": "Python 3 (ipykernel)",
   "language": "python",
   "name": "python3"
  },
  "language_info": {
   "codemirror_mode": {
    "name": "ipython",
    "version": 3
   },
   "file_extension": ".py",
   "mimetype": "text/x-python",
   "name": "python",
   "nbconvert_exporter": "python",
   "pygments_lexer": "ipython3",
   "version": "3.10.4"
  }
 },
 "nbformat": 4,
 "nbformat_minor": 5
}
